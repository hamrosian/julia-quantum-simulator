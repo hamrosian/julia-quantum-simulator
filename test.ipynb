{
 "cells": [
  {
   "cell_type": "code",
   "execution_count": null,
   "metadata": {},
   "outputs": [],
   "source": [
    "# importing the required libraries and classes\n",
    "using LinearAlgebra\n",
    "using SparseArrays\n",
    "include(\"classes/gates.jl\")\n",
    "include(\"classes/registers.jl\")\n",
    "\n",
    "print(\"Successfully imported the required libraries and classes\")"
   ]
  },
  {
   "attachments": {},
   "cell_type": "markdown",
   "metadata": {},
   "source": [
    "### Gate Benchmarks\n",
    "\n",
    "These tests are used to benchmark how long it takes to form dense multiqubit gates.\n",
    "\n",
    "The gates are tested from `min` qubits all the way up until `max` qubits. For n qubits the appropriate matrix has dimensions ( $2^n \\times 2^n$ ). The default values for `min` and `max` in this benchmark are 2 and 15 respectively. Therefore the minimum matrix size benchmarked here is ( $ 4 \\times 4 $ ) matrix and the maximum matrix size benchmarked here is a ( $4096 \\times 4096$ ) matrix. For a dense matrix such as the Hadamard gate, this would have 16,777,216 elements, each representable as a 64-bit complex floating point number.\n",
    "\n",
    "The benchmarks for the multi-qubit `X` and `CX` gates should be representative of the other Pauli and Controlled Pauli gates since they are similar in structure and the method for the creation is the same. The Haadamard gate is benchmarked seperately due to its unique structure, however it too uses the same method of creation.\n"
   ]
  },
  {
   "cell_type": "code",
   "execution_count": null,
   "metadata": {},
   "outputs": [],
   "source": [
    "min = 2\n",
    "max = 12\n",
    "for i in min:max\n",
    "    print(string(i) * \", \")\n",
    "end"
   ]
  },
  {
   "cell_type": "code",
   "execution_count": null,
   "metadata": {},
   "outputs": [],
   "source": [
    "# multi-h gate test\n",
    "for i in min:max\n",
    "    print(string(i) * \": \")\n",
    "    @time begin\n",
    "        h = fill(hadamardgate().matrix, i)\n",
    "        bh = kron(h...)\n",
    "    end\n",
    "end"
   ]
  },
  {
   "cell_type": "code",
   "execution_count": null,
   "metadata": {},
   "outputs": [],
   "source": [
    "# multi-x gate test\n",
    "for i in min:max\n",
    "    print(string(i) * \": \")\n",
    "    @time begin\n",
    "        x = fill(xgate().matrix, i)\n",
    "        bx = kron(x...)\n",
    "    end\n",
    "end"
   ]
  },
  {
   "cell_type": "code",
   "execution_count": null,
   "metadata": {},
   "outputs": [],
   "source": [
    "# multi-cx gate test\n",
    "for i in min:max\n",
    "    print(string(i) * \": \")\n",
    "    @time begin\n",
    "        bcx = cxgate(i, 1, i).matrix\n",
    "    end\n",
    "end"
   ]
  }
 ],
 "metadata": {
  "kernelspec": {
   "display_name": "Julia 1.8.3",
   "language": "julia",
   "name": "julia-1.8"
  },
  "language_info": {
   "file_extension": ".jl",
   "mimetype": "application/julia",
   "name": "julia",
   "version": "1.8.3"
  },
  "orig_nbformat": 4
 },
 "nbformat": 4,
 "nbformat_minor": 2
}
