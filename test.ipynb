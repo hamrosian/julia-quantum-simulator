{
 "cells": [
  {
   "cell_type": "code",
   "execution_count": 1,
   "metadata": {},
   "outputs": [
    {
     "name": "stdout",
     "output_type": "stream",
     "text": [
      "Successfully imported the required libraries and classes"
     ]
    }
   ],
   "source": [
    "# importing the required libraries and classes\n",
    "using LinearAlgebra\n",
    "using SparseArrays\n",
    "include(\"classes/gates.jl\")\n",
    "include(\"classes/registers.jl\")\n",
    "\n",
    "print(\"Successfully imported the required libraries and classes\")"
   ]
  },
  {
   "attachments": {},
   "cell_type": "markdown",
   "metadata": {},
   "source": [
    "### Gate Benchmarks\n",
    "\n",
    "These tests are used to benchmark how long it takes to form dense multiqubit gates.\n",
    "\n",
    "The gates are tested from `min` qubits all the way up until `max` qubits. For n qubits the appropriate matrix has dimensions ( $2^n \\times 2^n$ ). The default values for `min` and `max` in this benchmark are 2 and 15 respectively. Therefore the minimum matrix size benchmarked here is ( $ 4 \\times 4 $ ) matrix and the maximum matrix size benchmarked here is a ( $32768 \\times 32768$ ) matrix.\n",
    "\n",
    "The benchmarks for the multi-qubit `X` and `CX` gates should be representative of the other Pauli and Controlled Pauli gates since they are similar in structure and the method for the creation is the same. The Haadamard gate is benchmarked seperately due to its unique structure, however it too uses the same method of creation.\n"
   ]
  },
  {
   "cell_type": "code",
   "execution_count": 2,
   "metadata": {},
   "outputs": [
    {
     "name": "stdout",
     "output_type": "stream",
     "text": [
      "2, 3, 4, 5, 6, 7, 8, 9, 10, "
     ]
    }
   ],
   "source": [
    "min = 2\n",
    "max = 10\n",
    "for i in min:max\n",
    "    print(string(i) * \", \")\n",
    "end"
   ]
  },
  {
   "cell_type": "code",
   "execution_count": 11,
   "metadata": {},
   "outputs": [
    {
     "name": "stdout",
     "output_type": "stream",
     "text": [
      "2:   0.000035 seconds (19 allocations: 1.750 KiB)\n",
      "3:   0.000006 seconds (25 allocations: 3.672 KiB)\n",
      "4:   0.000010 seconds (35 allocations: 10.391 KiB)\n",
      "5:   0.000012 seconds (42 allocations: 35.141 KiB)\n",
      "6:   0.000036 seconds (49 allocations: 132.125 KiB)\n",
      "7:   0.000152 seconds (56 allocations: 517.609 KiB)\n",
      "8:   0.000588 seconds (63 allocations: 2.008 MiB)\n",
      "9:   0.001662 seconds (70 allocations: 8.012 MiB)\n",
      "10:   0.012374 seconds (77 allocations: 32.021 MiB, 38.98% gc time)\n"
     ]
    }
   ],
   "source": [
    "# multi-h gate test\n",
    "for i in min:max\n",
    "    print(string(i) * \": \")\n",
    "    @time begin\n",
    "        h = fill(hadamardgate().matrix, i)\n",
    "        bh = kron(h...)\n",
    "    end\n",
    "end"
   ]
  },
  {
   "cell_type": "code",
   "execution_count": 4,
   "metadata": {},
   "outputs": [
    {
     "name": "stdout",
     "output_type": "stream",
     "text": [
      "2:   0.000011 seconds (18 allocations: 1.391 KiB)\n",
      "3:   0.000010 seconds (24 allocations: 1.938 KiB)\n",
      "4:   0.004507 seconds (356 allocations: 12.734 KiB, 99.68% compilation time)\n",
      "5:   0.000013 seconds (41 allocations: 4.359 KiB)\n",
      "6:   0.000007 seconds (48 allocations: 6.812 KiB)\n",
      "7:   0.000008 seconds (55 allocations: 11.297 KiB)\n",
      "8:   0.000010 seconds (62 allocations: 19.922 KiB)\n",
      "9:   0.000015 seconds (69 allocations: 36.547 KiB)\n",
      "10:   0.000033 seconds (76 allocations: 69.156 KiB)\n"
     ]
    }
   ],
   "source": [
    "# multi-x gate test\n",
    "for i in min:max\n",
    "    print(string(i) * \": \")\n",
    "    @time begin\n",
    "        x = fill(xgate().matrix, i)\n",
    "        bx = kron(x...)\n",
    "    end\n",
    "end"
   ]
  },
  {
   "cell_type": "code",
   "execution_count": 5,
   "metadata": {},
   "outputs": [
    {
     "name": "stdout",
     "output_type": "stream",
     "text": [
      "2: "
     ]
    },
    {
     "name": "stdout",
     "output_type": "stream",
     "text": [
      "  0.116146 seconds (220.60 k allocations: 11.233 MiB, 8.40% gc time, 99.86% compilation time)\n",
      "3:   0.004147 seconds (1.55 k allocations: 93.915 KiB, 98.93% compilation time)\n",
      "4:   0.006109 seconds (5.82 k allocations: 329.831 KiB, 99.38% compilation time)\n",
      "5:   0.015194 seconds (60.36 k allocations: 3.336 MiB, 99.28% compilation time)\n",
      "6:   0.007580 seconds (6.74 k allocations: 399.083 KiB, 99.07% compilation time)\n",
      "7:   0.009653 seconds (7.79 k allocations: 464.691 KiB, 99.24% compilation time)\n",
      "8:   0.011729 seconds (8.85 k allocations: 539.987 KiB, 99.33% compilation time)\n",
      "9:   0.010733 seconds (9.90 k allocations: 629.098 KiB, 99.36% compilation time)\n",
      "10:   0.014079 seconds (10.95 k allocations: 747.854 KiB, 99.45% compilation time)\n"
     ]
    }
   ],
   "source": [
    "# multi-cx gate test\n",
    "for i in min:max\n",
    "    print(string(i) * \": \")\n",
    "    @time begin\n",
    "        bcx = cxgate(i, 1, i).matrix\n",
    "    end\n",
    "end"
   ]
  }
 ],
 "metadata": {
  "kernelspec": {
   "display_name": "Julia 1.8.3",
   "language": "julia",
   "name": "julia-1.8"
  },
  "language_info": {
   "file_extension": ".jl",
   "mimetype": "application/julia",
   "name": "julia",
   "version": "1.8.3"
  },
  "orig_nbformat": 4
 },
 "nbformat": 4,
 "nbformat_minor": 2
}
